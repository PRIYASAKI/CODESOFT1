{
  "nbformat": 4,
  "nbformat_minor": 0,
  "metadata": {
    "colab": {
      "provenance": [],
      "authorship_tag": "ABX9TyNj3pWfs5rgJgEYQqjSt6l8",
      "include_colab_link": true
    },
    "kernelspec": {
      "name": "python3",
      "display_name": "Python 3"
    },
    "language_info": {
      "name": "python"
    }
  },
  "cells": [
    {
      "cell_type": "markdown",
      "metadata": {
        "id": "view-in-github",
        "colab_type": "text"
      },
      "source": [
        "<a href=\"https://colab.research.google.com/github/PRIYASAKI/CODESOFT1/blob/master/Loading_excel%2CJson.ipynb\" target=\"_parent\"><img src=\"https://colab.research.google.com/assets/colab-badge.svg\" alt=\"Open In Colab\"/></a>"
      ]
    },
    {
      "cell_type": "markdown",
      "source": [
        "\n",
        "To bring an Excel file or a JSON file into Python, you can use libraries like pandas for both file types."
      ],
      "metadata": {
        "id": "BjuJzRo6722Z"
      }
    },
    {
      "cell_type": "markdown",
      "source": [
        "**Loading an Excel File:**\n",
        " We can use pandas to read an Excel file into a DataFrame."
      ],
      "metadata": {
        "id": "x3gSB1Rj-2rW"
      }
    },
    {
      "cell_type": "code",
      "source": [
        "import pandas as pd\n",
        "\n",
        "# Load Excel file\n",
        "file_path = 'Literature Survey (2).xlsx'\n",
        "df = pd.read_excel(file_path)\n",
        "\n",
        "# Display the first few rows\n",
        "print(df.head())\n"
      ],
      "metadata": {
        "colab": {
          "base_uri": "https://localhost:8080/"
        },
        "collapsed": true,
        "id": "7T0t47xM-2Nr",
        "outputId": "1fc8d01b-e19d-4fcc-960a-7d5195dac368"
      },
      "execution_count": 4,
      "outputs": [
        {
          "output_type": "stream",
          "name": "stdout",
          "text": [
            "       S.No                    Journal        Year  \\\n",
            "0         1                    Sensors        2022   \n",
            "1         2          Computer Networks        2022   \n",
            "2         3  Procedia Computer Science        2022   \n",
            "3         4                    Sensors        2022   \n",
            "4         5                    Sensors        2022   \n",
            "\n",
            "                                             Authors  \\\n",
            "0  Al-Amiedy, T. A., Anbar, M., Belaton, B., Kabl...   \n",
            "1  Nandhini PS,Kuppuswami S,Malliga S, DeviPriya ...   \n",
            "2  Raghavendra T, Anand M, Selvi M, Thangaramya K...   \n",
            "3  Muzammal SM, Murugesan RK, Jhanjhi NZ, Humayun...   \n",
            "4  Zahra F, Jhanjhi NZ, Brohi SN, Khan NA, Masud ...   \n",
            "\n",
            "                                  Title of the paper  \\\n",
            "0  A systematic literature review on machine and ...   \n",
            "1   A Lightweight Energy-Efficient Algorithm for ...   \n",
            "2  An Intelligent RPL attack detection using Mach...   \n",
            "3  A Trust-Based Model for Secure Routing against...   \n",
            "4  Rank and Wormhole Attack Detection Model for R...   \n",
            "\n",
            "           Proposed Method(Abstract/Proposed method)  \\\n",
            "0  MC-MLGBM                                      ...   \n",
            "1   non-cryptographic hash algorithm,PDR, E2ED, c...   \n",
            "2  An Intelligent RPL attack detection using Mach...   \n",
            "3  Security, Mobility, and Trust-based model (SMT...   \n",
            "4  MC-MLGBM                                      ...   \n",
            "\n",
            "                                              Attack  \\\n",
            "0                                  Rank and wormhole   \n",
            "1  Efficient Algorithm for mitigation and isolati...   \n",
            "2        RPL attack detection using Machine Learning   \n",
            "3                  RPL Attacks in Internet of Things   \n",
            "4                           Rank and Wormhole Attack   \n",
            "\n",
            "                       Parameters considered(Result)  \\\n",
            "0  cross-entropy, Cohn’s kappa, and Matthews corr...   \n",
            "1                             avalache effect , bias   \n",
            "2  genetic recursive feature selection and fuzzy ...   \n",
            "3  topology stability, PLR, and throughput measur...   \n",
            "4   ML-LGBM [13], gated recurrent unit-based DL (...   \n",
            "\n",
            "                                          Advantages  \\\n",
            "0  The proposed model performs well in terms of a...   \n",
            "1   The proposed RAD algorithm consumes less ener...   \n",
            "2  The proposed system efficiently detects the ma...   \n",
            "3  The improvisation in terms of topology stabili...   \n",
            "4  The proposed model outperforms benchmark resea...   \n",
            "\n",
            "                                         Limitations  \\\n",
            "0  1. Generated dataset needs improvement - more ...   \n",
            "1   The proposed RAD algorithm can be extended to...   \n",
            "2  The proposed IDS can improve the accuracy clas...   \n",
            "3  We plan to improve the power consumption and e...   \n",
            "4  More attacks from both categories of RPL attac...   \n",
            "\n",
            "                                               Links  \n",
            "0          https://www.mdpi.com/1424-8220/22/18/6765  \n",
            "1  https://www.sciencedirect.com/science/article/...  \n",
            "2  https://www.sciencedirect.com/science/article/...  \n",
            "3          https://www.mdpi.com/1424-8220/22/18/7052  \n",
            "4          https://www.mdpi.com/1424-8220/22/18/6765  \n"
          ]
        }
      ]
    },
    {
      "cell_type": "markdown",
      "source": [
        "**Loading a JSON File:**We can use pandas to read a JSON file into a DataFrame, or you can use the built-in json module if you want to load it as a dictionary"
      ],
      "metadata": {
        "id": "_6tKnGuhAzD3"
      }
    },
    {
      "cell_type": "markdown",
      "source": [
        "**Using pandas:**"
      ],
      "metadata": {
        "id": "CvB49FMKBbv-"
      }
    },
    {
      "cell_type": "code",
      "source": [
        "import pandas as pd\n",
        "\n",
        "# Load JSON file into a DataFrame\n",
        "file_path = 'samle.json'\n",
        "df = pd.read_json(file_path)\n",
        "\n",
        "# Display the first few rows\n",
        "print(df.head())\n"
      ],
      "metadata": {
        "colab": {
          "base_uri": "https://localhost:8080/"
        },
        "id": "k71rrXf5A7M9",
        "outputId": "6fc27450-de68-4348-c55c-0288b583ed28"
      },
      "execution_count": 5,
      "outputs": [
        {
          "output_type": "stream",
          "name": "stdout",
          "text": [
            "       name  age      city     hobbies\n",
            "0  John Doe   30  New York     reading\n",
            "1  John Doe   30  New York  travelling\n",
            "2  John Doe   30  New York    swimming\n"
          ]
        }
      ]
    },
    {
      "cell_type": "markdown",
      "source": [
        "**Using json:**"
      ],
      "metadata": {
        "id": "THWrFG41CbkC"
      }
    },
    {
      "cell_type": "code",
      "source": [
        "import json\n",
        "\n",
        "# Load JSON file into a dictionary\n",
        "file_path = 'samle.json'\n",
        "with open(file_path, 'r') as f:\n",
        "    data = json.load(f)\n",
        "\n",
        "# Display the dictionary\n",
        "print(data)\n"
      ],
      "metadata": {
        "colab": {
          "base_uri": "https://localhost:8080/"
        },
        "id": "xf8zGbtlCfII",
        "outputId": "a1a756c9-3001-4a7b-8743-7c617c22b5cb"
      },
      "execution_count": 6,
      "outputs": [
        {
          "output_type": "stream",
          "name": "stdout",
          "text": [
            "{'name': 'John Doe', 'age': 30, 'city': 'New York', 'hobbies': ['reading', 'travelling', 'swimming']}\n"
          ]
        }
      ]
    }
  ]
}